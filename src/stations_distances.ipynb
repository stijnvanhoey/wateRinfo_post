{
 "cells": [
  {
   "cell_type": "markdown",
   "metadata": {},
   "source": [
    "# Distances measurement stations along netwerk"
   ]
  },
  {
   "cell_type": "code",
   "execution_count": 2,
   "metadata": {},
   "outputs": [],
   "source": [
    "library(tidyverse)"
   ]
  },
  {
   "cell_type": "markdown",
   "metadata": {},
   "source": [
    "## Normalize and combine all measurement stations"
   ]
  },
  {
   "cell_type": "markdown",
   "metadata": {},
   "source": [
    "### Receivers"
   ]
  },
  {
   "cell_type": "code",
   "execution_count": 3,
   "metadata": {
    "collapsed": true
   },
   "outputs": [],
   "source": [
    "eels <- read_csv(\"eels.csv\", col_types = cols())"
   ]
  },
  {
   "cell_type": "code",
   "execution_count": 4,
   "metadata": {
    "collapsed": true
   },
   "outputs": [],
   "source": [
    "receivers <- eels %>% \n",
    "    select(Receiver, latitude, longitude, station) %>% \n",
    "    distinct() %>%\n",
    "    mutate(station_type = \"receiver\") %>%\n",
    "    rename(station_id = Receiver,\n",
    "           station_name = station)"
   ]
  },
  {
   "cell_type": "code",
   "execution_count": 5,
   "metadata": {},
   "outputs": [
    {
     "data": {
      "text/html": [
       "<table>\n",
       "<thead><tr><th scope=col>station_id</th><th scope=col>latitude</th><th scope=col>longitude</th><th scope=col>station_name</th><th scope=col>station_type</th></tr></thead>\n",
       "<tbody>\n",
       "\t<tr><td>VR2W-112287  </td><td>51.00588     </td><td>3.77876      </td><td>s-2          </td><td>receiver     </td></tr>\n",
       "\t<tr><td>VR2W-112297  </td><td>51.00164     </td><td>3.85695      </td><td>s-Wetteren   </td><td>receiver     </td></tr>\n",
       "\t<tr><td>VR2W-115438  </td><td>51.01680     </td><td>3.92527      </td><td>s-Wichelen   </td><td>receiver     </td></tr>\n",
       "\t<tr><td>VR2W-122325  </td><td>51.04340     </td><td>4.04783      </td><td>s-3          </td><td>receiver     </td></tr>\n",
       "\t<tr><td>VR2W-122322  </td><td>51.02032     </td><td>3.96965      </td><td>s-2a         </td><td>receiver     </td></tr>\n",
       "\t<tr><td>VR2W-112292  </td><td>51.03855     </td><td>4.11750      </td><td>s-Dendermonde</td><td>receiver     </td></tr>\n",
       "</tbody>\n",
       "</table>\n"
      ],
      "text/latex": [
       "\\begin{tabular}{r|lllll}\n",
       " station\\_id & latitude & longitude & station\\_name & station\\_type\\\\\n",
       "\\hline\n",
       "\t VR2W-112287   & 51.00588      & 3.77876       & s-2           & receiver     \\\\\n",
       "\t VR2W-112297   & 51.00164      & 3.85695       & s-Wetteren    & receiver     \\\\\n",
       "\t VR2W-115438   & 51.01680      & 3.92527       & s-Wichelen    & receiver     \\\\\n",
       "\t VR2W-122325   & 51.04340      & 4.04783       & s-3           & receiver     \\\\\n",
       "\t VR2W-122322   & 51.02032      & 3.96965       & s-2a          & receiver     \\\\\n",
       "\t VR2W-112292   & 51.03855      & 4.11750       & s-Dendermonde & receiver     \\\\\n",
       "\\end{tabular}\n"
      ],
      "text/markdown": [
       "\n",
       "station_id | latitude | longitude | station_name | station_type | \n",
       "|---|---|---|---|---|---|\n",
       "| VR2W-112287   | 51.00588      | 3.77876       | s-2           | receiver      | \n",
       "| VR2W-112297   | 51.00164      | 3.85695       | s-Wetteren    | receiver      | \n",
       "| VR2W-115438   | 51.01680      | 3.92527       | s-Wichelen    | receiver      | \n",
       "| VR2W-122325   | 51.04340      | 4.04783       | s-3           | receiver      | \n",
       "| VR2W-122322   | 51.02032      | 3.96965       | s-2a          | receiver      | \n",
       "| VR2W-112292   | 51.03855      | 4.11750       | s-Dendermonde | receiver      | \n",
       "\n",
       "\n"
      ],
      "text/plain": [
       "  station_id  latitude longitude station_name  station_type\n",
       "1 VR2W-112287 51.00588 3.77876   s-2           receiver    \n",
       "2 VR2W-112297 51.00164 3.85695   s-Wetteren    receiver    \n",
       "3 VR2W-115438 51.01680 3.92527   s-Wichelen    receiver    \n",
       "4 VR2W-122325 51.04340 4.04783   s-3           receiver    \n",
       "5 VR2W-122322 51.02032 3.96965   s-2a          receiver    \n",
       "6 VR2W-112292 51.03855 4.11750   s-Dendermonde receiver    "
      ]
     },
     "metadata": {},
     "output_type": "display_data"
    }
   ],
   "source": [
    "head(receivers)"
   ]
  },
  {
   "cell_type": "markdown",
   "metadata": {},
   "source": [
    "### Tidal stations"
   ]
  },
  {
   "cell_type": "markdown",
   "metadata": {},
   "source": [
    "Using the [tidal stations overview](https://github.com/inbo/wateRinfo/files/1483458/tij_all_identifiers.txt) as discussed on the wateRinfo [GitHub Issues](https://github.com/inbo/wateRinfo/issues/11#issuecomment-345339779):"
   ]
  },
  {
   "cell_type": "code",
   "execution_count": 6,
   "metadata": {
    "collapsed": true
   },
   "outputs": [],
   "source": [
    "ts_id_tide <- read_csv(\"scheldt_tide_waterinfo_identifiers.csv\", col_types = cols()) "
   ]
  },
  {
   "cell_type": "code",
   "execution_count": 9,
   "metadata": {},
   "outputs": [],
   "source": [
    "tidal_stations <- ts_id_tide %>%\n",
    "    filter(grepl(\".*10min.base\", ts_name)) %>%\n",
    "    filter(!station_name %in% c(\"Walem tij/Rupel\", \"Duffel-sluis tij\", \"Lier Molbrug tij/Nete\",\n",
    "                           \"Kessel tij/Grote Nete\", \"Emblem tij/Kleine Nete\", \n",
    "                           \"Mechelen Benedensluis tij/Dijle\", \"Mechelen Stuw Opwaarts tij/Dijle\",\n",
    "                           \"Hombeek tij/Zenne\", \"Zemst tij/Zenne\", \"Gentbrugge tij/Zeeschelde\",\n",
    "                           \"Waasmunster Manta tij/Durme\")) %>% # exclude nonte-scheldt stations\n",
    "    select(station_no, station_name, \n",
    "           station_longitude, station_latitude) %>%\n",
    "    distinct() %>%\n",
    "    mutate(station_type = \"waterinfo\") %>%\n",
    "    rename(station_id = station_no,\n",
    "           longitude = station_longitude,\n",
    "           latitude = station_latitude)"
   ]
  },
  {
   "cell_type": "markdown",
   "metadata": {},
   "source": [
    "### Combine receivers and waterinfo stations"
   ]
  },
  {
   "cell_type": "code",
   "execution_count": 10,
   "metadata": {},
   "outputs": [],
   "source": [
    "stations <- bind_rows(tidal_stations, receivers)"
   ]
  },
  {
   "cell_type": "code",
   "execution_count": 11,
   "metadata": {},
   "outputs": [
    {
     "data": {
      "text/html": [
       "<table>\n",
       "<thead><tr><th scope=col>station_id</th><th scope=col>station_name</th><th scope=col>longitude</th><th scope=col>latitude</th><th scope=col>station_type</th></tr></thead>\n",
       "<tbody>\n",
       "\t<tr><td>VR2W-122336</td><td>s-4c       </td><td>4.19007    </td><td>51.07363   </td><td>receiver   </td></tr>\n",
       "\t<tr><td>VR2W-122339</td><td>s-4c       </td><td>4.19007    </td><td>51.07363   </td><td>receiver   </td></tr>\n",
       "</tbody>\n",
       "</table>\n"
      ],
      "text/latex": [
       "\\begin{tabular}{r|lllll}\n",
       " station\\_id & station\\_name & longitude & latitude & station\\_type\\\\\n",
       "\\hline\n",
       "\t VR2W-122336 & s-4c        & 4.19007     & 51.07363    & receiver   \\\\\n",
       "\t VR2W-122339 & s-4c        & 4.19007     & 51.07363    & receiver   \\\\\n",
       "\\end{tabular}\n"
      ],
      "text/markdown": [
       "\n",
       "station_id | station_name | longitude | latitude | station_type | \n",
       "|---|---|\n",
       "| VR2W-122336 | s-4c        | 4.19007     | 51.07363    | receiver    | \n",
       "| VR2W-122339 | s-4c        | 4.19007     | 51.07363    | receiver    | \n",
       "\n",
       "\n"
      ],
      "text/plain": [
       "  station_id  station_name longitude latitude station_type\n",
       "1 VR2W-122336 s-4c         4.19007   51.07363 receiver    \n",
       "2 VR2W-122339 s-4c         4.19007   51.07363 receiver    "
      ]
     },
     "metadata": {},
     "output_type": "display_data"
    }
   ],
   "source": [
    "stations %>% filter(station_name == \"s-4c\")"
   ]
  },
  {
   "cell_type": "markdown",
   "metadata": {},
   "source": [
    "## Derive internal distances stations"
   ]
  },
  {
   "cell_type": "code",
   "execution_count": 13,
   "metadata": {},
   "outputs": [],
   "source": [
    "library(sp)\n",
    "library(raster)"
   ]
  },
  {
   "cell_type": "markdown",
   "metadata": {},
   "source": [
    "Load the study area rivers/canals as a binary mask"
   ]
  },
  {
   "cell_type": "code",
   "execution_count": 14,
   "metadata": {
    "collapsed": true
   },
   "outputs": [],
   "source": [
    "study_area <- raster(\"study_area_binary.tif\")"
   ]
  },
  {
   "cell_type": "markdown",
   "metadata": {},
   "source": [
    "Convert the CRS of the stations to the CRS of the binary mask"
   ]
  },
  {
   "cell_type": "code",
   "execution_count": 15,
   "metadata": {
    "collapsed": true
   },
   "outputs": [],
   "source": [
    "crs_mask <- CRS(\"+init=epsg:32631\") # use gdalinfo to derive the CRS\n",
    "crs_stations <- CRS(\"+init=epsg:4326\")"
   ]
  },
  {
   "cell_type": "code",
   "execution_count": 16,
   "metadata": {
    "collapsed": true
   },
   "outputs": [],
   "source": [
    "# project coordinates\n",
    "stations_sp <- SpatialPointsDataFrame(coords = stations[, c(\"longitude\", \n",
    "                                                            \"latitude\")],\n",
    "                                      data = stations,\n",
    "                                      proj4string = crs_stations)\n",
    "stations_sp <- spTransform(stations_sp, crs_mask)"
   ]
  },
  {
   "cell_type": "markdown",
   "metadata": {},
   "source": [
    "Load the support functions to derive internal distances"
   ]
  },
  {
   "cell_type": "code",
   "execution_count": 18,
   "metadata": {},
   "outputs": [],
   "source": [
    "source('distance_fun.R')"
   ]
  },
  {
   "cell_type": "markdown",
   "metadata": {},
   "source": [
    "Update the binary mask for stations that fall outside the binary mask. The basic strategy is to extend the points raster point size until it overlaps with the main binary mask:"
   ]
  },
  {
   "cell_type": "code",
   "execution_count": 18,
   "metadata": {},
   "outputs": [
    {
     "name": "stdout",
     "output_type": "stream",
     "text": [
      "[1] 4\n",
      "[1] 4\n",
      "[1] 4\n",
      "[1] 4\n",
      "[1] 3\n",
      "[1] 3\n",
      "[1] 3\n",
      "[1] 3\n",
      "[1] 3\n",
      "[1] 3\n",
      "[1] 3\n",
      "[1] 3\n",
      "[1] 3\n",
      "[1] 3\n",
      "[1] 3\n",
      "[1] 3\n",
      "[1] 3\n",
      "[1] 3\n",
      "[1] 3\n",
      "[1] 3\n",
      "[1] 3\n",
      "[1] 3\n",
      "[1] 3\n",
      "[1] 3\n",
      "[1] 3\n",
      "[1] 3\n",
      "[1] 3\n",
      "[1] 3\n",
      "[1] 3\n",
      "[1] 3\n",
      "[1] 3\n",
      "[1] 3\n",
      "[1] 3\n",
      "[1] 3\n",
      "[1] 3\n",
      "[1] 3\n",
      "[1] 3\n",
      "[1] 3\n",
      "[1] 2\n",
      "[1] 2\n",
      "[1] 2\n",
      "[1] 2\n",
      "[1] 2\n",
      "[1] 2\n",
      "[1] 2\n",
      "NULL\n"
     ]
    }
   ],
   "source": [
    "study_area_binary_extended <- adapt_binarymask(study_area, stations_sp)"
   ]
  },
  {
   "cell_type": "code",
   "execution_count": 34,
   "metadata": {
    "collapsed": true
   },
   "outputs": [],
   "source": [
    "# check on memory usage of R objects in memory\n",
    "#sort( sapply(ls(), function(x){object.size(get(x))})) "
   ]
  },
  {
   "cell_type": "markdown",
   "metadata": {},
   "source": [
    "Check if the extended mask is properly derived to extract in-network distances:"
   ]
  },
  {
   "cell_type": "code",
   "execution_count": 35,
   "metadata": {},
   "outputs": [
    {
     "data": {
      "text/html": [
       "TRUE"
      ],
      "text/latex": [
       "TRUE"
      ],
      "text/markdown": [
       "TRUE"
      ],
      "text/plain": [
       "[1] TRUE"
      ]
     },
     "metadata": {},
     "output_type": "display_data"
    }
   ],
   "source": [
    "control_mask(study_area_binary_extended, stations_sp)"
   ]
  },
  {
   "cell_type": "markdown",
   "metadata": {},
   "source": [
    "Calculate all internal distances for the stations:"
   ]
  },
  {
   "cell_type": "code",
   "execution_count": 36,
   "metadata": {
    "collapsed": true
   },
   "outputs": [],
   "source": [
    "cst_dst_frame <- get_distance_matrix(study_area_binary_extended, stations_sp)"
   ]
  },
  {
   "cell_type": "markdown",
   "metadata": {},
   "source": [
    "Write the internal distances to file"
   ]
  },
  {
   "cell_type": "code",
   "execution_count": 69,
   "metadata": {
    "collapsed": true
   },
   "outputs": [],
   "source": [
    "cst_dst_frame <- as.data.frame(cst_dst_frame)"
   ]
  },
  {
   "cell_type": "code",
   "execution_count": 58,
   "metadata": {
    "collapsed": true
   },
   "outputs": [],
   "source": [
    "write_csv(cst_dst_frame, \"stations_internal_distances.csv\")"
   ]
  },
  {
   "cell_type": "markdown",
   "metadata": {},
   "source": [
    "## Translate to distance from sea (i.e. reference station close to sea)"
   ]
  },
  {
   "cell_type": "markdown",
   "metadata": {},
   "source": [
    "When you do not want to reproduce the entire calculation"
   ]
  },
  {
   "cell_type": "raw",
   "metadata": {},
   "source": [
    "temp <- read_csv(\"stations_internal_distances.csv\",\n",
    "                               col_types = cols(.default = col_double()))\n",
    "row.names(temp) <- colnames(temp)\n",
    "head(temp)"
   ]
  },
  {
   "cell_type": "markdown",
   "metadata": {},
   "source": [
    "Fix on station s-4c **TOFIX!**"
   ]
  },
  {
   "cell_type": "code",
   "execution_count": 77,
   "metadata": {
    "collapsed": true
   },
   "outputs": [],
   "source": [
    "cst_dst_frame <- cst_dst_frame[, -33]"
   ]
  },
  {
   "cell_type": "code",
   "execution_count": 95,
   "metadata": {
    "collapsed": true
   },
   "outputs": [],
   "source": [
    "cst_dst_frame %>%\n",
    "    rownames_to_column(\"STATION\") %>%\n",
    "    filter(STATION == \"ws-DL7\") %>%\n",
    "    gather(key = \"station\", value = \"distance_to_refence_station\", -STATION) %>%\n",
    "    rename(reference_station = STATION) %>%\n",
    "    arrange(distance_to_refence_station) %>%\n",
    "    inner_join(stations, by = c(\"station\" = \"station_name\")) -> distance_from_reference"
   ]
  },
  {
   "cell_type": "code",
   "execution_count": 96,
   "metadata": {
    "collapsed": true
   },
   "outputs": [],
   "source": [
    "write_csv(distance_from_reference, \"distance_from_sea.csv\")"
   ]
  },
  {
   "cell_type": "code",
   "execution_count": null,
   "metadata": {
    "collapsed": true
   },
   "outputs": [],
   "source": []
  },
  {
   "cell_type": "code",
   "execution_count": null,
   "metadata": {
    "collapsed": true
   },
   "outputs": [],
   "source": []
  }
 ],
 "metadata": {
  "kernelspec": {
   "display_name": "R",
   "language": "R",
   "name": "ir"
  },
  "language_info": {
   "codemirror_mode": "r",
   "file_extension": ".r",
   "mimetype": "text/x-r-source",
   "name": "R",
   "pygments_lexer": "r",
   "version": "3.4.4"
  }
 },
 "nbformat": 4,
 "nbformat_minor": 2
}
